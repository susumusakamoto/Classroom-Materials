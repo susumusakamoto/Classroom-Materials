{
 "cells": [
  {
   "cell_type": "markdown",
   "metadata": {},
   "source": [
    "## Probability Distributions\n",
    "A probability distribution depicts the expected outcomes of possible values for a given data generating process. It's the possible values a variable can take and how frequent they occur.\n",
    "#### Some Important Concepts\n",
    "* Population (your dataset + all) vs. Sample (your dataset - if not exhaustive);\n",
    "* Type of data: \n",
    "![pic](https://useruploads.socratic.org/X0k4bPR8i39MDjuWxqwc_hqdefault.jpg)\n",
    "<br>\n",
    "\n",
    "#### Some Types of Probability Distribution:\n",
    "* Normal distribution (continuous)\n",
    "* Bernoulli distribution (discrete)\n",
    "* Binomial distribution\n",
    "* Uniform distribution\n",
    "* Poisson distribution\n",
    "<br><br>\n",
    "Light read about probability distributions [here](https://medium.com/@codingpilot25/five-probability-distribution-every-data-scientist-should-learn-da79d57472a2)<br>\n",
    "Dense read about probabilility density function [here](https://machinelearningmastery.com/probability-density-estimation/)\n",
    "###  Normal Distributions"
   ]
  },
  {
   "cell_type": "code",
   "execution_count": 47,
   "metadata": {},
   "outputs": [
    {
     "name": "stdout",
     "output_type": "stream",
     "text": [
      "Collecting scikit-learn\n",
      "  Downloading scikit_learn-0.24.2-cp38-cp38-macosx_10_13_x86_64.whl (7.2 MB)\n",
      "\u001b[K     |████████████████████████████████| 7.2 MB 5.4 MB/s eta 0:00:01\n",
      "\u001b[?25hCollecting joblib>=0.11\n",
      "  Downloading joblib-1.0.1-py3-none-any.whl (303 kB)\n",
      "\u001b[K     |████████████████████████████████| 303 kB 6.4 MB/s eta 0:00:01\n",
      "\u001b[?25hRequirement already satisfied: numpy>=1.13.3 in /Users/abhimanyumittal/venv/lib/python3.8/site-packages (from scikit-learn) (1.20.3)\n",
      "Collecting threadpoolctl>=2.0.0\n",
      "  Downloading threadpoolctl-2.1.0-py3-none-any.whl (12 kB)\n",
      "Requirement already satisfied: scipy>=0.19.1 in /Users/abhimanyumittal/venv/lib/python3.8/site-packages (from scikit-learn) (1.6.3)\n",
      "Installing collected packages: threadpoolctl, joblib, scikit-learn\n",
      "Successfully installed joblib-1.0.1 scikit-learn-0.24.2 threadpoolctl-2.1.0\n",
      "\u001b[33mWARNING: You are using pip version 21.0.1; however, version 21.1.2 is available.\n",
      "You should consider upgrading via the '/Users/abhimanyumittal/venv/bin/python -m pip install --upgrade pip' command.\u001b[0m\n"
     ]
    }
   ],
   "source": [
    "# !pip install scikit-learn\n",
    "# !pip install scipy"
   ]
  },
  {
   "cell_type": "code",
   "execution_count": 20,
   "metadata": {},
   "outputs": [],
   "source": [
    "import numpy as np\n",
    "from scipy.stats import norm\n",
    "import matplotlib.pyplot as plt\n",
    "import seaborn as sns\n",
    "import warnings\n",
    "warnings.filterwarnings('ignore') "
   ]
  },
  {
   "cell_type": "code",
   "execution_count": 21,
   "metadata": {},
   "outputs": [],
   "source": [
    "x = np.random.randn(10000) # random numbers that obey a standard normal distribution"
   ]
  },
  {
   "cell_type": "code",
   "execution_count": 3,
   "metadata": {},
   "outputs": [
    {
     "data": {
      "text/plain": [
       "array([ 0.08178673, -0.43582906,  0.1266693 , ...,  0.43938917,\n",
       "        1.85222931,  1.08081735])"
      ]
     },
     "execution_count": 3,
     "metadata": {},
     "output_type": "execute_result"
    }
   ],
   "source": [
    "x"
   ]
  },
  {
   "cell_type": "code",
   "execution_count": 4,
   "metadata": {},
   "outputs": [
    {
     "data": {
      "image/png": "[encoded data removed]",
      "text/plain": [
       "<Figure size 432x288 with 1 Axes>"
      ]
     },
     "metadata": {
      "needs_background": "light"
     },
     "output_type": "display_data"
    }
   ],
   "source": [
    "sns.distplot(x)\n",
    "plt.show()"
   ]
  },
  {
   "cell_type": "code",
   "execution_count": 46,
   "metadata": {},
   "outputs": [
    {
     "data": {
      "text/plain": [
       "0.07978845608028654"
      ]
     },
     "execution_count": 46,
     "metadata": {},
     "output_type": "execute_result"
    }
   ],
   "source": [
    "normal = norm(5, 5) # initiate normal distribution object\n",
    "normal.pdf(5) # the probability of being a zero"
   ]
  },
  {
   "cell_type": "code",
   "execution_count": 43,
   "metadata": {},
   "outputs": [
    {
     "data": {
      "text/plain": [
       "0.15865525393145707"
      ]
     },
     "execution_count": 43,
     "metadata": {},
     "output_type": "execute_result"
    }
   ],
   "source": [
    "# Emperical Rule: 68%, 95%, 99.7%\n",
    "normal.cdf(3) # cumulative function (probability of being 2 or less)"
   ]
  },
  {
   "cell_type": "code",
   "execution_count": 33,
   "metadata": {},
   "outputs": [
    {
     "data": {
      "text/plain": [
       "array([6.380441  , 3.43782323, 5.85183176, 5.20668213, 7.16911266,\n",
       "       2.96505266, 5.0323007 , 5.36089166, 1.56338181, 5.44519503,\n",
       "       4.64767417, 8.33788669, 3.81081171, 1.8888605 , 6.62178885,\n",
       "       4.11079956, 4.46594   , 2.82287213, 8.16853998, 1.85986711,\n",
       "       1.30835325, 6.08765449, 6.96950702, 8.26837171, 3.73038591,\n",
       "       2.58282667, 5.30027255, 3.59917131, 4.72828899, 2.61592275,\n",
       "       4.51056951, 2.65205851, 4.21316207, 6.62463321, 5.05838581,\n",
       "       7.14311487, 0.43575622, 3.44316522, 8.0190372 , 7.91980188,\n",
       "       5.15161081, 1.40048637, 6.96218838, 6.3744703 , 2.51429852,\n",
       "       4.0713584 , 9.25487659, 1.96593442, 5.86023981, 8.30873914,\n",
       "       6.00955739, 7.68985935, 7.35946115, 3.63522438, 5.17488308,\n",
       "       7.49613254, 2.83949432, 4.60898594, 1.69756265, 2.08726326,\n",
       "       6.14002951, 6.16410474, 2.69189299, 3.60041903, 5.24161216,\n",
       "       5.57645936, 4.07870114, 5.17185432, 5.0308491 , 4.36463328,\n",
       "       5.66853929, 2.96493149, 5.73691325, 8.35015366, 5.6502272 ,\n",
       "       7.17081206, 5.20263573, 5.50632568, 8.3072963 , 5.1416154 ,\n",
       "       2.05878841, 8.25332964, 3.74085507, 2.7757017 , 2.88820539,\n",
       "       3.34720698, 5.67472689, 6.58572821, 4.1791663 , 4.9747454 ,\n",
       "       0.62097502, 5.06558688, 3.93130864, 5.68277359, 3.47201852,\n",
       "       8.8720131 , 9.08058374, 4.46739189, 7.42873728, 9.61771351])"
      ]
     },
     "execution_count": 33,
     "metadata": {},
     "output_type": "execute_result"
    }
   ],
   "source": [
    "normal.rvs(100) # random value from the normal distribution created"
   ]
  },
  {
   "cell_type": "code",
   "execution_count": 44,
   "metadata": {},
   "outputs": [
    {
     "data": {
      "text/plain": [
       "<AxesSubplot:ylabel='Density'>"
      ]
     },
     "execution_count": 44,
     "metadata": {},
     "output_type": "execute_result"
    },
    {
     "data": {
      "image/png": "[encoded data removed]",
      "text/plain": [
       "<Figure size 432x288 with 1 Axes>"
      ]
     },
     "metadata": {
      "needs_background": "light"
     },
     "output_type": "display_data"
    }
   ],
   "source": [
    "sns.distplot(normal.rvs(5000))"
   ]
  },
  {
   "cell_type": "code",
   "execution_count": 62,
   "metadata": {},
   "outputs": [
    {
     "data": {
      "image/png": "[encoded data removed]",
      "text/plain": [
       "<Figure size 432x288 with 1 Axes>"
      ]
     },
     "metadata": {
      "needs_background": "light"
     },
     "output_type": "display_data"
    }
   ],
   "source": [
    "fig, ax = plt.subplots(1, 1)\n",
    "\n",
    "x = np.linspace(-3,15,1000) # Generating 1000 evenly spaced numbers between -3 and 15.\n",
    "y = normal.pdf(x) # Generating a plot of the 'Normal distribution' using the points in x.\n",
    "\n",
    "ax.plot(x,y)\n",
    "plt.show()"
   ]
  },
  {
   "cell_type": "code",
   "execution_count": null,
   "metadata": {},
   "outputs": [],
   "source": []
  },
  {
   "cell_type": "markdown",
   "metadata": {},
   "source": [
    "![](https://4.bp.blogspot.com/-ZoF_bvkMgt4/V41DQqJppXI/AAAAAAAAEi0/65OpWwOIhfQUO9Otc_bBUIhPZ862Dkq-gCLcB/s1600/resized_elefante_copy.jpg)\n",
    "This is not a normal distribution"
   ]
  },
  {
   "cell_type": "code",
   "execution_count": null,
   "metadata": {},
   "outputs": [],
   "source": []
  }
 ],
 "metadata": {
  "kernelspec": {
   "display_name": "Python 3",
   "language": "python",
   "name": "python3"
  },
  "language_info": {
   "codemirror_mode": {
    "name": "ipython",
    "version": 3
   },
   "file_extension": ".py",
   "mimetype": "text/x-python",
   "name": "python",
   "nbconvert_exporter": "python",
   "pygments_lexer": "ipython3",
   "version": "3.8.2"
  }
 },
 "nbformat": 4,
 "nbformat_minor": 4
}
